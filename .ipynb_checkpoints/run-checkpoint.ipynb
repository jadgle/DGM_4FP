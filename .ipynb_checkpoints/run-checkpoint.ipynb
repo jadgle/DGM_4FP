{
 "cells": [
  {
   "cell_type": "code",
   "execution_count": 4,
   "id": "6d86f659",
   "metadata": {},
   "outputs": [],
   "source": [
    "import neural_mfg\n",
    "import numpy as np"
   ]
  },
  {
   "cell_type": "code",
   "execution_count": 5,
   "id": "8f791014",
   "metadata": {},
   "outputs": [],
   "source": [
    "net = neural_mfg.dgm_net()"
   ]
  },
  {
   "cell_type": "code",
   "execution_count": null,
   "id": "62ad39d9",
   "metadata": {},
   "outputs": [],
   "source": [
    "phi = np.genfromtxt('phi.txt')\n",
    "gamma = np.genfromtxt('gamma.txt')\n",
    "points= np.genfromtxt('points.txt')"
   ]
  }
 ],
 "metadata": {
  "kernelspec": {
   "display_name": "tf-gpu",
   "language": "python",
   "name": "ex"
  },
  "language_info": {
   "codemirror_mode": {
    "name": "ipython",
    "version": 3
   },
   "file_extension": ".py",
   "mimetype": "text/x-python",
   "name": "python",
   "nbconvert_exporter": "python",
   "pygments_lexer": "ipython3",
   "version": "3.8.12"
  }
 },
 "nbformat": 4,
 "nbformat_minor": 5
}
