{
 "cells": [
  {
   "cell_type": "code",
   "execution_count": 1,
   "id": "6d86f659",
   "metadata": {},
   "outputs": [],
   "source": [
    "import dgm_library_ergodic as dgm\n",
    "import numpy as np\n",
    "import tensorflow as tf\n",
    "import pandas as pd\n",
    "\n",
    "net = dgm.neural_mfg()"
   ]
  },
  {
   "cell_type": "code",
   "execution_count": 2,
   "id": "d1c62ccf",
   "metadata": {},
   "outputs": [],
   "source": [
    "phi = np.genfromtxt('phi.txt')\n",
    "gamma = np.genfromtxt('gamma.txt')\n",
    "points = np.genfromtxt('points.txt')"
   ]
  },
  {
   "cell_type": "code",
   "execution_count": 3,
   "id": "08d1b9e4",
   "metadata": {},
   "outputs": [],
   "source": [
    "optimizer = tf.optimizers.Adam()\n",
    "phi_IC   = pd.DataFrame(phi).astype(dtype = net.DTYPE)\n",
    "points_IC   = pd.DataFrame(points).astype(dtype = net.DTYPE)"
   ]
  },
  {
   "cell_type": "code",
   "execution_count": 9,
   "id": "59653820",
   "metadata": {},
   "outputs": [],
   "source": [
    "phi_prediction = net.phi_theta(points_IC)\n",
    "phi_loss = tf.norm(phi_prediction - phi_IC)\n",
    "\n",
    "with tf.GradientTape() as phi_tape:\n",
    "    phi_vars = net.phi_theta.trainable_variables\n",
    "    phi_tape.watch(phi_vars)\n",
    "    g = phi_tape.gradient(phi_loss,phi_vars)    "
   ]
  },
  {
   "cell_type": "code",
   "execution_count": null,
   "id": "b1ae36dc",
   "metadata": {},
   "outputs": [],
   "source": []
  }
 ],
 "metadata": {
  "kernelspec": {
   "display_name": "tf-gpu",
   "language": "python",
   "name": "ex"
  },
  "language_info": {
   "codemirror_mode": {
    "name": "ipython",
    "version": 3
   },
   "file_extension": ".py",
   "mimetype": "text/x-python",
   "name": "python",
   "nbconvert_exporter": "python",
   "pygments_lexer": "ipython3",
   "version": "3.8.12"
  }
 },
 "nbformat": 4,
 "nbformat_minor": 5
}
