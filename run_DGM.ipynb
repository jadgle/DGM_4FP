{
 "cells": [
  {
   "cell_type": "code",
   "execution_count": 5,
   "id": "f7c26131",
   "metadata": {},
   "outputs": [],
   "source": [
    "import matplotlib.pyplot as plt\n",
    "import tensorflow as tf\n",
    "import matplotlib\n",
    "from dgm_library_ergodic import env_initializing, sample_room, init_DGM, train, warmstart_sol\n",
    "\n",
    "from DGM import * # NOQA\n",
    "import numpy as np\n",
    "import keras\n",
    "import pandas as pd\n",
    "from tensorflow.python.ops.numpy_ops import np_config\n",
    "\n",
    "env_initializing()\n",
    "\n",
    "DTYPE = 'float32'\n",
    "\n",
    "verbose = 1"
   ]
  },
  {
   "cell_type": "code",
   "execution_count": null,
   "id": "adcf30fc",
   "metadata": {},
   "outputs": [
    {
     "name": "stdout",
     "output_type": "stream",
     "text": [
      "------ preprocessing for Gamma_theta ------\n",
      "Gamma_theta It 00000: loss = 8.04636765e+01\n",
      "Gamma_theta It 00050: loss = 1.63641943e+03\n",
      "Gamma_theta It 00100: loss = 5.71980164e+02\n",
      "Gamma_theta It 00150: loss = 1.68011292e+02\n",
      "Gamma_theta It 00200: loss = 1.03149673e+02\n",
      "Gamma_theta It 00250: loss = 2.00775162e+02\n",
      "Gamma_theta It 00300: loss = 1.41014038e+02\n",
      "Gamma_theta It 00350: loss = 1.05255310e+02\n",
      "Gamma_theta It 00400: loss = 2.01174774e+02\n"
     ]
    }
   ],
   "source": [
    "Phi_theta = init_DGM(RNN_layers = 0, FNN_layers=1, nodes_per_layer=100,activation=\"tanh\")\n",
    "Gamma_theta = init_DGM(RNN_layers = 0, FNN_layers=1, nodes_per_layer=100,activation=\"tanh\")\n",
    "\n",
    "phi = np.genfromtxt('phi.txt')\n",
    "gamma = np.genfromtxt('gamma.txt')\n",
    "\n",
    "Phi_theta,Gamma_theta, X0  = warmstart_sol(Phi_theta,Gamma_theta,phi,gamma,2)"
   ]
  },
  {
   "cell_type": "code",
   "execution_count": null,
   "id": "0f215af9",
   "metadata": {},
   "outputs": [],
   "source": [
    "x = X0.iloc[:,0]\n",
    "y = X0.iloc[:,1]\n",
    "m = Gamma_theta(X0)*Phi_theta(X0)\n",
    "\n",
    "fig = plt.figure(figsize=(7,6))\n",
    "plt.scatter(x, y, c=m, cmap='hot_r')\n",
    "plt.xlabel('$x$')\n",
    "plt.ylabel('$y$')\n",
    "plt.clim([0,3])\n",
    "plt.colorbar()\n",
    "plt.show()"
   ]
  },
  {
   "cell_type": "code",
   "execution_count": null,
   "id": "6fb2a47a",
   "metadata": {},
   "outputs": [],
   "source": []
  }
 ],
 "metadata": {
  "kernelspec": {
   "display_name": "tf-gpu",
   "language": "python",
   "name": "ex"
  },
  "language_info": {
   "codemirror_mode": {
    "name": "ipython",
    "version": 3
   },
   "file_extension": ".py",
   "mimetype": "text/x-python",
   "name": "python",
   "nbconvert_exporter": "python",
   "pygments_lexer": "ipython3",
   "version": "3.8.12"
  }
 },
 "nbformat": 4,
 "nbformat_minor": 5
}
