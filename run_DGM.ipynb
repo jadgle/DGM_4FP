{
 "cells": [
  {
   "cell_type": "code",
   "execution_count": null,
   "id": "f7c26131",
   "metadata": {},
   "outputs": [],
   "source": [
    "import matplotlib.pyplot as plt\n",
    "import tensorflow as tf\n",
    "import matplotlib\n",
    "from dgm_library_ergodic import env_initializing, sample_room, init_DGM, train, warmstart_sol,compute_loss\n",
    "\n",
    "from DGM import * # NOQA\n",
    "import numpy as np\n",
    "import keras\n",
    "import pandas as pd\n",
    "from tensorflow.python.ops.numpy_ops import np_config\n",
    "\n",
    "env_initializing()\n",
    "\n",
    "DTYPE = 'float32'\n",
    "\n",
    "verbose = 1"
   ]
  },
  {
   "cell_type": "code",
   "execution_count": null,
   "id": "adcf30fc",
   "metadata": {},
   "outputs": [],
   "source": [
    "Phi_theta = init_DGM(RNN_layers = 0, FNN_layers=2, nodes_per_layer=200,activation=\"relu\")\n",
    "Gamma_theta = init_DGM(RNN_layers = 0, FNN_layers=2, nodes_per_layer=200,activation=\"relu\")\n",
    "\n",
    "phi = np.genfromtxt('phi.txt')\n",
    "gamma = np.genfromtxt('gamma.txt')\n",
    "\n",
    "Phi_theta,Gamma_theta, X0  = warmstart_sol(Phi_theta,Gamma_theta,phi,gamma,2)"
   ]
  },
  {
   "cell_type": "code",
   "execution_count": null,
   "id": "0f215af9",
   "metadata": {},
   "outputs": [],
   "source": [
    "x = X0.iloc[:,0]\n",
    "y = X0.iloc[:,1]\n",
    "m = Gamma_theta(X0)*Phi_theta(X0)\n",
    "\n",
    "fig = plt.figure(figsize=(10,10))\n",
    "plt.scatter(x, y, c=m, cmap='hot_r')\n",
    "plt.xlabel('$x$')\n",
    "plt.ylabel('$y$')\n",
    "plt.clim([0,3])\n",
    "plt.colorbar()\n",
    "plt.show()"
   ]
  },
  {
   "cell_type": "code",
   "execution_count": null,
   "id": "e29ac911",
   "metadata": {},
   "outputs": [],
   "source": [
    "m_theta = m.numpy().reshape(150,150)\n",
    "m_sol = phi*gamma\n",
    "fig = plt.figure(figsize=(10,10))\n",
    "plt.pcolor(abs(m_sol-m_theta))\n",
    "plt.colorbar()\n",
    "plt.show()"
   ]
  },
  {
   "cell_type": "code",
   "execution_count": null,
   "id": "aa1cf2bc",
   "metadata": {},
   "outputs": [],
   "source": [
    "X_b, X_s, X_c = sample_room(0)"
   ]
  },
  {
   "cell_type": "code",
   "execution_count": null,
   "id": "c1101ef5",
   "metadata": {},
   "outputs": [],
   "source": [
    "X0 = pd.concat([X_b,X_s,X_c])\n",
    "x = X0.iloc[:,0]\n",
    "y = X0.iloc[:,1]\n",
    "m = Gamma_theta(X0)*Phi_theta(X0)\n",
    "fig = plt.figure(figsize=(10,10))\n",
    "plt.scatter(x, y, c=m, cmap='hot_r')\n",
    "plt.colorbar()\n",
    "plt.show()"
   ]
  },
  {
   "cell_type": "code",
   "execution_count": null,
   "id": "bb1ea7a0",
   "metadata": {},
   "outputs": [],
   "source": [
    "from dgm_library_ergodic import get_derivatives\n",
    "\n",
    "grad, h = get_derivatives(Phi_theta,tf.Variable(X0,dtype = DTYPE))"
   ]
  },
  {
   "cell_type": "code",
   "execution_count": null,
   "id": "0182789d",
   "metadata": {},
   "outputs": [],
   "source": [
    "norm = np.sqrt(grad[:,0,0]**2 + grad[:,0,1]**2)"
   ]
  },
  {
   "cell_type": "code",
   "execution_count": null,
   "id": "fcebee59",
   "metadata": {},
   "outputs": [],
   "source": [
    "plt.figure(figsize=(10,10))\n",
    "plt.scatter(x,y,c=norm)\n",
    "plt.colorbar()\n",
    "plt.clim(0,5)\n",
    "plt.show()"
   ]
  },
  {
   "cell_type": "code",
   "execution_count": null,
   "id": "03d70c09",
   "metadata": {},
   "outputs": [],
   "source": [
    "dx = 4/149\n",
    "lap_phi = 0.28**4*(phi[:-2,1:-1] + phi[2:,1:-1] + phi[1:-1,:-2] + phi[1:-1,2:] - 4*phi[1:-1,1:-1])/(dx**2) "
   ]
  },
  {
   "cell_type": "code",
   "execution_count": null,
   "id": "dd1721e2",
   "metadata": {},
   "outputs": [],
   "source": [
    "plt.figure(figsize=(10,10))\n",
    "plt.pcolor(lap_phi)\n",
    "plt.colorbar()\n",
    "plt.show()"
   ]
  }
 ],
 "metadata": {
  "kernelspec": {
   "display_name": "tf-gpu",
   "language": "python",
   "name": "ex"
  },
  "language_info": {
   "codemirror_mode": {
    "name": "ipython",
    "version": 3
   },
   "file_extension": ".py",
   "mimetype": "text/x-python",
   "name": "python",
   "nbconvert_exporter": "python",
   "pygments_lexer": "ipython3",
   "version": "3.8.12"
  }
 },
 "nbformat": 4,
 "nbformat_minor": 5
}
