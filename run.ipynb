{
 "cells": [
  {
   "cell_type": "code",
   "execution_count": null,
   "id": "6d86f659",
   "metadata": {},
   "outputs": [],
   "source": [
    "import neural_mfg\n",
    "import numpy as np"
   ]
  },
  {
   "cell_type": "code",
   "execution_count": null,
   "id": "8f791014",
   "metadata": {},
   "outputs": [],
   "source": [
    "net = neural_mfg.dgm_net()"
   ]
  },
  {
   "cell_type": "code",
   "execution_count": null,
   "id": "d1c62ccf",
   "metadata": {},
   "outputs": [],
   "source": [
    "phi = np.genfromtxt('IC/phi.txt')\n",
    "gamma = np.genfromtxt('IC/gamma.txt')\n",
    "points = np.genfromtxt('IC/points.txt')"
   ]
  },
  {
   "cell_type": "code",
   "execution_count": null,
   "id": "a4160e03",
   "metadata": {},
   "outputs": [],
   "source": [
    "net.warmstart(phi,gamma,points)"
   ]
  },
  {
   "cell_type": "code",
   "execution_count": null,
   "id": "398b9c63",
   "metadata": {},
   "outputs": [],
   "source": [
    "net.get_loss().numpy()"
   ]
  }
 ],
 "metadata": {
  "kernelspec": {
   "display_name": "tf-gpu",
   "language": "python",
   "name": "ex"
  },
  "language_info": {
   "codemirror_mode": {
    "name": "ipython",
    "version": 3
   },
   "file_extension": ".py",
   "mimetype": "text/x-python",
   "name": "python",
   "nbconvert_exporter": "python",
   "pygments_lexer": "ipython3",
   "version": "3.8.12"
  }
 },
 "nbformat": 4,
 "nbformat_minor": 5
}
